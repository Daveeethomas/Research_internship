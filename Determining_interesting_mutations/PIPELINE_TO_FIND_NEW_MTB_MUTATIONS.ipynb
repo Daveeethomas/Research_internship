{
 "cells": [
  {
   "cell_type": "markdown",
   "metadata": {},
   "source": [
    "Code to get unique mutations per sample and see whether they are in the database of WHO (Catalogue of mutations in Mycobacterium tuberculosis complex and their association with drug resistance - Second edition) or in the TBDB repository (https://github.com/jodyphelan/tbdb)\n",
    "\n",
    "When looking into the residues that are part of the interface 3 different types of classification methods will be used, first of all the the residues predicted above the threshold MCC 0.345 are classified as protein interface residues by the PIPENN-EMB model. Also the sequence neighbours will be used to analyse whether these can shine light on new interesting protein residues and also structural neighbouringing residues within a 5A radius will be used"
   ]
  },
  {
   "cell_type": "code",
   "execution_count": null,
   "metadata": {},
   "outputs": [],
   "source": []
  }
 ],
 "metadata": {
  "language_info": {
   "name": "python"
  }
 },
 "nbformat": 4,
 "nbformat_minor": 2
}
